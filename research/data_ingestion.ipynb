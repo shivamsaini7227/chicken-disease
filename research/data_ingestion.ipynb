{
 "cells": [
  {
   "cell_type": "code",
   "execution_count": 33,
   "metadata": {},
   "outputs": [
    {
     "name": "stdout",
     "output_type": "stream",
     "text": [
      "Requirement already satisfied: pyyaml in /opt/anaconda3/envs/chicken/lib/python3.12/site-packages (6.0.1)\n",
      "Requirement already satisfied: joblib in /opt/anaconda3/envs/chicken/lib/python3.12/site-packages (1.4.2)\n",
      "Requirement already satisfied: ensure in /opt/anaconda3/envs/chicken/lib/python3.12/site-packages (1.0.4)\n",
      "Requirement already satisfied: six>=1.11.0 in /opt/anaconda3/envs/chicken/lib/python3.12/site-packages (from ensure) (1.16.0)\n"
     ]
    }
   ],
   "source": [
    "!pip3 install pyyaml\n",
    "!pip3 install joblib\n",
    "!pip3 install ensure\n"
   ]
  },
  {
   "cell_type": "code",
   "execution_count": 34,
   "metadata": {},
   "outputs": [
    {
     "name": "stdout",
     "output_type": "stream",
     "text": [
      "Requirement already satisfied: python-box in /opt/anaconda3/envs/chicken/lib/python3.12/site-packages (7.2.0)\n"
     ]
    }
   ],
   "source": [
    "!pip3 install python-box"
   ]
  },
  {
   "cell_type": "code",
   "execution_count": 35,
   "metadata": {},
   "outputs": [],
   "source": [
    "import yaml\n",
    "import joblib\n",
    "import ensure\n",
    "# we have to work with in chicken-disease folder path:/Users/shivamsaini/chicken-disease\n"
   ]
  },
  {
   "cell_type": "code",
   "execution_count": 36,
   "metadata": {},
   "outputs": [
    {
     "name": "stdout",
     "output_type": "stream",
     "text": [
      "/Users/shivamsaini/chicken-disease\n"
     ]
    }
   ],
   "source": [
    "cd /Users/shivamsaini/chicken-disease\n"
   ]
  },
  {
   "cell_type": "code",
   "execution_count": 37,
   "metadata": {},
   "outputs": [],
   "source": [
    "from dataclasses import dataclass\n",
    "from pathlib import Path\n",
    "\n",
    "\n",
    "@dataclass(frozen=True)\n",
    "class DataIngestionConfig:\n",
    "    root_dir: Path\n",
    "    source_url: str\n",
    "    local_file: Path\n",
    "    unzip_dir: Path"
   ]
  },
  {
   "cell_type": "code",
   "execution_count": 38,
   "metadata": {},
   "outputs": [
    {
     "data": {
      "text/plain": [
       "'/Users/shivamsaini/chicken-disease'"
      ]
     },
     "execution_count": 38,
     "metadata": {},
     "output_type": "execute_result"
    }
   ],
   "source": [
    "# file_dir = os.path.dirname('/Users/shivamsaini/chicken-disease/src/cnnClassifier/constants')\n",
    "# sys.path.append(file_dir)\n",
    "%pwd"
   ]
  },
  {
   "cell_type": "code",
   "execution_count": 39,
   "metadata": {},
   "outputs": [
    {
     "name": "stdout",
     "output_type": "stream",
     "text": [
      "python: /opt/anaconda3/envs/chicken/bin/python\n"
     ]
    }
   ],
   "source": [
    "!whereis python"
   ]
  },
  {
   "cell_type": "code",
   "execution_count": 40,
   "metadata": {},
   "outputs": [
    {
     "data": {
      "text/plain": [
       "'/Users/shivamsaini/chicken-disease'"
      ]
     },
     "execution_count": 40,
     "metadata": {},
     "output_type": "execute_result"
    }
   ],
   "source": [
    "import sys\n",
    "import os\n",
    "sys.path.append(os.path.abspath('src'))\n",
    "%pwd"
   ]
  },
  {
   "cell_type": "code",
   "execution_count": 41,
   "metadata": {},
   "outputs": [],
   "source": [
    "from cnnClassifier.constants import CONFIG_FILE_PATH , PARAM_FILE_PATH \n",
    "from cnnClassifier.utils.common import read_yaml , create_directories"
   ]
  },
  {
   "cell_type": "code",
   "execution_count": 42,
   "metadata": {},
   "outputs": [
    {
     "name": "stdout",
     "output_type": "stream",
     "text": [
      "[2024-08-04 22:29:31,455: INFO: common: yaml file: config/config.yaml loaded successfully]\n",
      "[2024-08-04 22:29:31,456: INFO: common: yaml file: params.yaml loaded successfully]\n",
      "{'artifacts_root': 'artifacts', 'data_ingestion': {'root_dir': 'data_ingestion', 'source_url': 'https://github.com/shivamsaini7227/DataWeNeed/blob/main/archive.zip', 'local_file': '/Users/shivamsaini/chicken-disease/artifacts/dataingestion', 'unzip_dir': 'artifacts/dataingestion'}}\n",
      "{'key': 'value'}\n",
      "[2024-08-04 22:29:31,457: INFO: common: created directory at: artifacts]\n"
     ]
    }
   ],
   "source": [
    "class ConfigurationManager:\n",
    "    def __init__(\n",
    "        self,\n",
    "        config_filepath = CONFIG_FILE_PATH,\n",
    "        params_filepath = PARAM_FILE_PATH):\n",
    "\n",
    "        self.config = read_yaml(config_filepath)\n",
    "        self.params = read_yaml(params_filepath)\n",
    "        create_directories([self.config.artifacts_root])\n",
    "\n",
    "        print(self.config)\n",
    "        print(self.params)\n",
    "\n",
    "\n",
    "    \n",
    "    def get_data_ingestion_config(self) -> DataIngestionConfig:\n",
    "        config = self.config.data_ingestion\n",
    "\n",
    "        create_directories([config.root_dir])\n",
    "\n",
    "        data_ingestion_config = DataIngestionConfig(\n",
    "            root_dir = config.root_dir,\n",
    "            source_url = config.source_url,\n",
    "            local_file = config.local_file,\n",
    "            unzip_dir = config.unzip_dir \n",
    "        )\n",
    "\n",
    "        return data_ingestion_config\n",
    "\n",
    "obj=ConfigurationManager()\n",
    "\n",
    "\n",
    "      "
   ]
  },
  {
   "cell_type": "code",
   "execution_count": 43,
   "metadata": {},
   "outputs": [],
   "source": [
    "import os\n",
    "import urllib.request as request\n",
    "import zipfile\n",
    "from cnnClassifier import logger\n",
    "from cnnClassifier.utils.common import get_size"
   ]
  },
  {
   "cell_type": "code",
   "execution_count": 51,
   "metadata": {},
   "outputs": [],
   "source": [
    "class DataIngestion:\n",
    "    def __init__(self, config: DataIngestionConfig):\n",
    "        self.config = config\n",
    "\n",
    "\n",
    "    \n",
    "    def download_file(self):\n",
    "        if not os.path.exists(self.config.local_file):\n",
    "            filename, headers = request.urlretrieve(\n",
    "                url = self.config.source_url,\n",
    "                filename = self.config.local_file\n",
    "            )\n",
    "            logger.info(f\"{filename} download! with following info: \\n{headers}\")\n",
    "        else:\n",
    "            logger.info(f\"File already exists of size: {get_size(Path(self.config.local_file))}\")  \n",
    "\n",
    "\n",
    "    \n",
    "    def extract_zip_file(self):\n",
    "        \"\"\"\n",
    "        zip_file_path: str\n",
    "        Extracts the zip file into the data directory\n",
    "        Function returns None\n",
    "        \"\"\"\n",
    "        unzip_path = self.config.unzip_dir\n",
    "        os.makedirs(unzip_path, exist_ok=True)\n",
    "        with zipfile.ZipFile(self.config.local_file, 'r') as zip_ref:\n",
    "            zip_ref.extractall(unzip_path)"
   ]
  },
  {
   "cell_type": "code",
   "execution_count": 45,
   "metadata": {},
   "outputs": [
    {
     "name": "stdout",
     "output_type": "stream",
     "text": [
      "python: /opt/anaconda3/envs/chicken/bin/python\n"
     ]
    }
   ],
   "source": [
    "!whereis python\n",
    "from box import Box\n",
    "from box.exceptions import BoxKeyError\n"
   ]
  },
  {
   "cell_type": "code",
   "execution_count": 53,
   "metadata": {},
   "outputs": [
    {
     "name": "stdout",
     "output_type": "stream",
     "text": [
      "[2024-08-06 00:58:09,705: INFO: common: yaml file: config/config.yaml loaded successfully]\n",
      "[2024-08-06 00:58:09,711: INFO: common: yaml file: params.yaml loaded successfully]\n",
      "{'artifacts_root': 'artifacts', 'data_ingestion': {'root_dir': 'data_ingestion', 'source_url': 'https://github.com/shivamsaini7227/DataWeNeed/raw/main/archive.zip', 'local_file': '/Users/shivamsaini/chicken-disease/artifacts/dataingestion/archive.zip', 'unzip_dir': 'artifacts/dataingestion'}, 'base_model': {'root_dir': 'artifacts/base_model', 'base_model_path': 'artifacts/base_model/model.h5', 'update_model_path': 'artifacts/base_model/updated_model.h5'}}\n",
      "{'AUGMENTATION': True, 'IMAGE_SIZE': [224, 224, 3], 'BATCH_SIZE': 16, 'INCLUDE_TOP': False, 'EPOCHS': 1, 'CLASSES': 2, 'WEIGHTS': 'imagenet', 'LEARNING_RATE': 0.01}\n",
      "[2024-08-06 00:58:09,713: INFO: common: created directory at: artifacts]\n",
      "[2024-08-06 00:58:09,714: INFO: common: created directory at: data_ingestion]\n",
      "[2024-08-06 00:58:09,716: INFO: 4185630111: File already exists of size: ~ 11349 KB]\n"
     ]
    }
   ],
   "source": [
    "try:\n",
    "   config= ConfigurationManager()\n",
    "   data_ingestion_config = config.get_data_ingestion_config()\n",
    "   data_ingestion= DataIngestion(config=data_ingestion_config)\n",
    "   data_ingestion.download_file()\n",
    "   data_ingestion.extract_zip_file() \n",
    "\n",
    "except Exception as e:\n",
    "     raise e\n"
   ]
  },
  {
   "cell_type": "code",
   "execution_count": null,
   "metadata": {},
   "outputs": [],
   "source": []
  }
 ],
 "metadata": {
  "kernelspec": {
   "display_name": "chicken",
   "language": "python",
   "name": "python3"
  },
  "language_info": {
   "codemirror_mode": {
    "name": "ipython",
    "version": 3
   },
   "file_extension": ".py",
   "mimetype": "text/x-python",
   "name": "python",
   "nbconvert_exporter": "python",
   "pygments_lexer": "ipython3",
   "version": "3.12.4"
  }
 },
 "nbformat": 4,
 "nbformat_minor": 2
}
